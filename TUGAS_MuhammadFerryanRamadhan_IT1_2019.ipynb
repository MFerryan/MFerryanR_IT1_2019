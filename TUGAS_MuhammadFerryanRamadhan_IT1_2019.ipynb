{
  "nbformat": 4,
  "nbformat_minor": 0,
  "metadata": {
    "colab": {
      "name": "TUGAS_MuhammadFerryanRamadhan_IT1_2019.ipynb",
      "provenance": [],
      "collapsed_sections": [],
      "authorship_tag": "ABX9TyNRUjnub3MaigPNUtYOpeBy",
      "include_colab_link": true
    },
    "kernelspec": {
      "name": "python3",
      "display_name": "Python 3"
    },
    "language_info": {
      "name": "python"
    }
  },
  "cells": [
    {
      "cell_type": "markdown",
      "metadata": {
        "id": "view-in-github",
        "colab_type": "text"
      },
      "source": [
        "<a href=\"https://colab.research.google.com/github/ff1402/Software-Engineering-IT1/blob/master/TUGAS_MuhammadFerryanRamadhan_IT1_2019.ipynb\" target=\"_parent\"><img src=\"https://colab.research.google.com/assets/colab-badge.svg\" alt=\"Open In Colab\"/></a>"
      ]
    },
    {
      "cell_type": "code",
      "metadata": {
        "colab": {
          "base_uri": "https://localhost:8080/"
        },
        "id": "5H2IOgrEXGK0",
        "outputId": "c3aff3eb-b51c-481a-a0c9-76e23e4ebd9a"
      },
      "source": [
        "list1 = input('Input Number : ')\n",
        "list2 = input('Input Number : ')\n",
        "list3 = input('Input Number : ')\n",
        "list4 = input('Input Number : ')\n",
        "list5 = input('Input Number : ')\n",
        "\n",
        "integers = [list1, list2, list3, list4, list5]\n",
        "\n",
        "unique_integers = set(integers) \n",
        "largest_integer = max(unique_integers) \n",
        "unique_integers.remove(largest_integer)\n",
        "\n",
        "second_largest_integer = max(unique_integers) \n",
        "print(\"Second largest number is : \" +second_largest_integer)"
      ],
      "execution_count": 1,
      "outputs": [
        {
          "output_type": "stream",
          "name": "stdout",
          "text": [
            "Input Number : 5\n",
            "Input Number : 5\n",
            "Input Number : 4\n",
            "Input Number : 3\n",
            "Input Number : 2\n",
            "Second largest number is : 4\n"
          ]
        }
      ]
    }
  ]
}