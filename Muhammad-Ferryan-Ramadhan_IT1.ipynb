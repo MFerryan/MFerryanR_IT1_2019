{
  "nbformat": 4,
  "nbformat_minor": 0,
  "metadata": {
    "colab": {
      "name": "Untitled0.ipynb",
      "provenance": [],
      "collapsed_sections": [],
      "authorship_tag": "ABX9TyPtvR2xt0mMh5YJRbkVDmUw",
      "include_colab_link": true
    },
    "kernelspec": {
      "name": "python3",
      "display_name": "Python 3"
    },
    "language_info": {
      "name": "python"
    }
  },
  "cells": [
    {
      "cell_type": "markdown",
      "metadata": {
        "id": "view-in-github",
        "colab_type": "text"
      },
      "source": [
        "<a href=\"https://colab.research.google.com/github/ff1402/Software-Engineering-IT1/blob/master/Muhammad-Ferryan-Ramadhan_IT1.ipynb\" target=\"_parent\"><img src=\"https://colab.research.google.com/assets/colab-badge.svg\" alt=\"Open In Colab\"/></a>"
      ]
    },
    {
      "cell_type": "code",
      "metadata": {
        "colab": {
          "base_uri": "https://localhost:8080/"
        },
        "id": "HhobECSDWI4l",
        "outputId": "e7a08786-d0a8-46d7-f9a7-38a3beb5cb94"
      },
      "source": [
        "List_1 = [\"Muhammad Ferryan Ramadhan IT 1 2019 001201900094\"] * 5\n",
        "print(List_1)\n"
      ],
      "execution_count": 1,
      "outputs": [
        {
          "output_type": "stream",
          "name": "stdout",
          "text": [
            "['Muhammad Ferryan Ramadhan IT 1 2019 001201900094', 'Muhammad Ferryan Ramadhan IT 1 2019 001201900094', 'Muhammad Ferryan Ramadhan IT 1 2019 001201900094', 'Muhammad Ferryan Ramadhan IT 1 2019 001201900094', 'Muhammad Ferryan Ramadhan IT 1 2019 001201900094']\n"
          ]
        }
      ]
    },
    {
      "cell_type": "code",
      "metadata": {
        "colab": {
          "base_uri": "https://localhost:8080/"
        },
        "id": "_RYhmSTZXd3W",
        "outputId": "c9886d0f-687e-4c16-e7b4-66fab8dfe3cb"
      },
      "source": [
        "hewan = \"kambing\"\n",
        "print(\"Hewan Saya adalah : {}\" .format(hewan))"
      ],
      "execution_count": null,
      "outputs": [
        {
          "output_type": "stream",
          "name": "stdout",
          "text": [
            "Hewan Saya adalah : kambing\n"
          ]
        }
      ]
    },
    {
      "cell_type": "code",
      "metadata": {
        "colab": {
          "base_uri": "https://localhost:8080/",
          "height": 35
        },
        "id": "i_XkuNhCYiFS",
        "outputId": "98495b12-1664-4e6e-9acf-ae1ba23fda40"
      },
      "source": [
        "List_1 = [\"Ferry\",\"Raw\",\"3\"]\n",
        "List_1[-2]"
      ],
      "execution_count": null,
      "outputs": [
        {
          "output_type": "execute_result",
          "data": {
            "application/vnd.google.colaboratory.intrinsic+json": {
              "type": "string"
            },
            "text/plain": [
              "'Raw'"
            ]
          },
          "metadata": {},
          "execution_count": 38
        }
      ]
    },
    {
      "cell_type": "code",
      "metadata": {
        "colab": {
          "base_uri": "https://localhost:8080/"
        },
        "id": "l4XYRCRuYum1",
        "outputId": "a606d317-9fd1-4fbf-fa4e-a59facb1b787"
      },
      "source": [
        "a = [1,2,3,4,5,6,7,8,9]\n",
        "a.append(99)\n",
        "print(a[-2:])"
      ],
      "execution_count": null,
      "outputs": [
        {
          "output_type": "stream",
          "name": "stdout",
          "text": [
            "[9, 99]\n"
          ]
        }
      ]
    },
    {
      "cell_type": "code",
      "metadata": {
        "colab": {
          "base_uri": "https://localhost:8080/"
        },
        "id": "DQY-CzedjdX4",
        "outputId": "f76c5d6c-f0d5-4646-d711-6c91fa1189f3"
      },
      "source": [
        "a = [1,2,3,4,5,6,7,8,9]\n",
        "\n",
        "a.append(True)\n",
        "print(a)"
      ],
      "execution_count": null,
      "outputs": [
        {
          "output_type": "stream",
          "name": "stdout",
          "text": [
            "[1, 2, 3, 4, 5, 6, 7, 8, 9, True]\n"
          ]
        }
      ]
    },
    {
      "cell_type": "code",
      "metadata": {
        "colab": {
          "base_uri": "https://localhost:8080/"
        },
        "id": "S6i1z0Wbbclg",
        "outputId": "11d92848-4c7b-4135-c90a-caa6ab4f9ec0"
      },
      "source": [
        "c = True\n",
        "c = 20\n",
        "\n",
        "print(c)"
      ],
      "execution_count": null,
      "outputs": [
        {
          "output_type": "stream",
          "name": "stdout",
          "text": [
            "20\n"
          ]
        }
      ]
    },
    {
      "cell_type": "code",
      "metadata": {
        "colab": {
          "base_uri": "https://localhost:8080/"
        },
        "id": "onmVInAGbqEm",
        "outputId": "05bfe421-53ab-490c-a5da-b7b845aafd36"
      },
      "source": [
        "list = [\"Ferry\",\"Raw\",\"3\"]\n",
        "print(\"Nama saya adalah \"  + list[1])"
      ],
      "execution_count": null,
      "outputs": [
        {
          "output_type": "stream",
          "name": "stdout",
          "text": [
            "Nama saya adalah Raw\n"
          ]
        }
      ]
    },
    {
      "cell_type": "code",
      "metadata": {
        "colab": {
          "base_uri": "https://localhost:8080/"
        },
        "id": "eBSM4BwlbjsL",
        "outputId": "c2511d6e-f451-4e72-da3f-ef2313d2ecf1"
      },
      "source": [
        "print (\"Nama : {}, Kelas : {}\" .format(\"Pipi\",\"Ridwan Gaming\"))"
      ],
      "execution_count": null,
      "outputs": [
        {
          "output_type": "stream",
          "name": "stdout",
          "text": [
            "Nama : Pipi, Kelas : Ridwan Gaming\n"
          ]
        }
      ]
    },
    {
      "cell_type": "markdown",
      "metadata": {
        "id": "aksn6gjhWJbv"
      },
      "source": [
        ""
      ]
    },
    {
      "cell_type": "code",
      "metadata": {
        "colab": {
          "base_uri": "https://localhost:8080/"
        },
        "id": "Ht-AH2KoZjN1",
        "outputId": "2da9afc7-f2bb-40ef-d6dd-0362755b6c2f"
      },
      "source": [
        "a = 3.5\n",
        "print(\"Nama : \" + str(a))"
      ],
      "execution_count": null,
      "outputs": [
        {
          "output_type": "stream",
          "name": "stdout",
          "text": [
            "Nama : 3.5\n"
          ]
        }
      ]
    },
    {
      "cell_type": "code",
      "metadata": {
        "colab": {
          "base_uri": "https://localhost:8080/"
        },
        "id": "WUQ9D-IUgxiQ",
        "outputId": "30a6c289-f6ae-4878-d1d2-0d874311a722"
      },
      "source": [
        "list = [\"ciway\",\"goc\"] * 5\n",
        "print(list)\n",
        "print(list[-3:])"
      ],
      "execution_count": null,
      "outputs": [
        {
          "output_type": "stream",
          "name": "stdout",
          "text": [
            "['ciway', 'goc', 'ciway', 'goc', 'ciway', 'goc', 'ciway', 'goc', 'ciway', 'goc']\n",
            "['goc', 'ciway', 'goc']\n"
          ]
        }
      ]
    }
  ]
}