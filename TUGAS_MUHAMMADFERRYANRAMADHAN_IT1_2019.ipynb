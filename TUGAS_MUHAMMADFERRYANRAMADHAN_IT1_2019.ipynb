{
  "nbformat": 4,
  "nbformat_minor": 0,
  "metadata": {
    "colab": {
      "name": "TUGAS_MUHAMMADFERRYANRAMADHAN_IT1_2019",
      "provenance": [],
      "collapsed_sections": [],
      "authorship_tag": "ABX9TyOOwIPPAURSHbqVeCG8QOIr",
      "include_colab_link": true
    },
    "kernelspec": {
      "name": "python3",
      "display_name": "Python 3"
    },
    "language_info": {
      "name": "python"
    }
  },
  "cells": [
    {
      "cell_type": "markdown",
      "metadata": {
        "id": "view-in-github",
        "colab_type": "text"
      },
      "source": [
        "<a href=\"https://colab.research.google.com/github/ff1402/Software-Engineering-IT1/blob/master/TUGAS_MUHAMMADFERRYANRAMADHAN_IT1_2019.ipynb\" target=\"_parent\"><img src=\"https://colab.research.google.com/assets/colab-badge.svg\" alt=\"Open In Colab\"/></a>"
      ]
    },
    {
      "cell_type": "code",
      "metadata": {
        "colab": {
          "base_uri": "https://localhost:8080/"
        },
        "id": "ItfPByt6dTtC",
        "outputId": "79f1644d-4113-4091-a489-a40f03562709"
      },
      "source": [
        "list1 = input('Input Number : ')\n",
        "list2 = input('Input Number : ')\n",
        "list3 = input('Input Number : ')\n",
        "list4 = input('Input Number : ')\n",
        "list5 = input('Input Number : ')\n",
        "\n",
        "new_list = [list1, list2, list3, list4, list5]\n",
        "new_list.remove(max(new_list))\n",
        "print('Highest second number is ' + max(new_list));"
      ],
      "execution_count": 1,
      "outputs": [
        {
          "output_type": "stream",
          "name": "stdout",
          "text": [
            "Input Number : 99\n",
            "Input Number : 87\n",
            "Input Number : 65\n",
            "Input Number : 95\n",
            "Input Number : 12\n",
            "Highest second number is 95\n"
          ]
        }
      ]
    }
  ]
}